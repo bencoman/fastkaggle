{
 "cells": [
  {
   "cell_type": "code",
   "execution_count": null,
   "metadata": {},
   "outputs": [],
   "source": [
    "#| default_exp core"
   ]
  },
  {
   "cell_type": "markdown",
   "metadata": {},
   "source": [
    "# fastkaggle.core\n",
    "\n",
    "> API details for fastkaggle."
   ]
  },
  {
   "cell_type": "code",
   "execution_count": null,
   "metadata": {},
   "outputs": [],
   "source": [
    "#|hide\n",
    "from nbprocess.showdoc import *"
   ]
  },
  {
   "cell_type": "code",
   "execution_count": null,
   "metadata": {},
   "outputs": [],
   "source": [
    "#|export\n",
    "import os,json,re,importlib,pkg_resources\n",
    "from fastcore.utils import *"
   ]
  },
  {
   "cell_type": "code",
   "execution_count": null,
   "metadata": {},
   "outputs": [],
   "source": [
    "#|export\n",
    "iskaggle = os.environ.get('KAGGLE_KERNEL_RUN_TYPE', '')"
   ]
  },
  {
   "cell_type": "code",
   "execution_count": null,
   "metadata": {},
   "outputs": [],
   "source": [
    "#|export\n",
    "def import_kaggle():\n",
    "    \"Import kaggle API, using Kaggle secrets `kaggle_username` and `kaggle_key` if needed\"\n",
    "    if iskaggle:\n",
    "        from kaggle_secrets import UserSecretsClient\n",
    "        sec = UserSecretsClient()\n",
    "        os.environ['KAGGLE_USERNAME'] = sec.get_secret(\"kaggle_username\")\n",
    "        if not os.environ['KAGGLE_USERNAME']: raise Exception(\"Please insert your Kaggle username and key into Kaggle secrets\")\n",
    "        os.environ['KAGGLE_KEY'] = sec.get_secret(\"kaggle_key\")\n",
    "    from kaggle import api\n",
    "    return api"
   ]
  },
  {
   "cell_type": "code",
   "execution_count": null,
   "metadata": {},
   "outputs": [
    {
     "ename": "NameError",
     "evalue": "name 'L' is not defined",
     "output_type": "error",
     "traceback": [
      "\u001b[0;31m---------------------------------------------------------------------------\u001b[0m",
      "\u001b[0;31mNameError\u001b[0m                                 Traceback (most recent call last)",
      "Input \u001b[0;32mIn [6]\u001b[0m, in \u001b[0;36m<cell line: 2>\u001b[0;34m()\u001b[0m\n\u001b[1;32m      1\u001b[0m api \u001b[38;5;241m=\u001b[39m import_kaggle()\n\u001b[0;32m----> 2\u001b[0m \u001b[43mL\u001b[49m(api\u001b[38;5;241m.\u001b[39mcompetitions_list())\n",
      "\u001b[0;31mNameError\u001b[0m: name 'L' is not defined"
     ]
    }
   ],
   "source": [
    "api = import_kaggle()\n",
    "L(api.competitions_list())"
   ]
  },
  {
   "cell_type": "code",
   "execution_count": null,
   "metadata": {},
   "outputs": [],
   "source": [
    "#|export\n",
    "def split_pkgspec(pkgspec):\n",
    "    \"Split install string into list of triples (pkg, operator, targetver)\"\n",
    "    # e.g. \"fastcore>=1.4.5\" \"fastai\" ==> ('fastcore','>=','1.4.5') ('fastai','>','0')         \n",
    "    pkg,*rest = re.split('(>=|<=|==|>|<)', pkgspec.replace('\"', ''))\n",
    "    try: operator,targetver = rest \n",
    "    except: operator,targetver = \">\" , \"0\"\n",
    "    return (pkg, operator, targetver)\n"
   ]
  },
  {
   "cell_type": "code",
   "execution_count": null,
   "metadata": {},
   "outputs": [],
   "source": [
    "assert split_pkgspec('fastcore>=1.4.5') == ('fastcore', '>=', '1.4.5')\n",
    "assert split_pkgspec('\"fastcore>=1.4.5\"') == ('fastcore', '>=', '1.4.5')\n",
    "assert split_pkgspec('fastcore') == ('fastcore', '>', '0')\n",
    "assert split_pkgspec('\"fastcore\"') == ('fastcore', '>', '0')\n",
    "assert split_pkgspec('\"fastcore==1.4.5\"') == ('fastcore', '==', '1.4.5')"
   ]
  },
  {
   "cell_type": "code",
   "execution_count": null,
   "metadata": {},
   "outputs": [],
   "source": [
    "#|export\n",
    "def setup_install(install=''):\n",
    "    \"Set up python environment using pip-install to match string of pkgspecs\"\n",
    "    for pkgspec in install.replace('\"', '').split():\n",
    "        pkg, operator, targetver = split_pkgspec(pkgspec)\n",
    "\n",
    "        try: oldver = pkg_resources.get_distribution(pkg).version\n",
    "        except: pkg_resources.DistributionNotFound: oldver = '0'\n",
    "\n",
    "        print('require', pkg, operator, targetver, '\\n  found', oldver, end=',')\n",
    "        if not eval(f\"'{oldver}'{operator}'{targetver}'\"): \n",
    "            print(' installing...', end='')\n",
    "            os.system(f'pip install -Uqq \"{pkgspec}\"') \n",
    "            importlib.reload(pkg_resources)\n",
    "            print( ' installed', pkg_resources.get_distribution(pkg).version, end=',')\n",
    "               \n",
    "        ver = __import__(pkg).__version__\n",
    "        print(' active', ver)"
   ]
  },
  {
   "cell_type": "code",
   "execution_count": null,
   "metadata": {},
   "outputs": [
    {
     "name": "stdout",
     "output_type": "stream",
     "text": [
      "require fastcore < 1.4.2 \n",
      "  found 1.4.2, installing..."
     ]
    },
    {
     "name": "stderr",
     "output_type": "stream",
     "text": [
      "ERROR: pip's dependency resolver does not currently take into account all the packages that are installed. This behaviour is the source of the following dependency conflicts.\n",
      "nbprocess 0.0.3 requires fastcore>=1.4.2, but you have fastcore 1.4.1 which is incompatible.\n"
     ]
    },
    {
     "name": "stdout",
     "output_type": "stream",
     "text": [
      " installed 1.4.1, active 1.4.2\n",
      "require fastcore > 0 \n",
      "  found 1.4.1, active 1.4.2\n",
      "1.4.1 1.4.2\n"
     ]
    },
    {
     "ename": "AssertionError",
     "evalue": "",
     "output_type": "error",
     "traceback": [
      "\u001b[0;31m---------------------------------------------------------------------------\u001b[0m",
      "\u001b[0;31mAssertionError\u001b[0m                            Traceback (most recent call last)",
      "Input \u001b[0;32mIn [9]\u001b[0m, in \u001b[0;36m<cell line: 13>\u001b[0;34m()\u001b[0m\n\u001b[1;32m     11\u001b[0m v3 \u001b[38;5;241m=\u001b[39m pkg_resources\u001b[38;5;241m.\u001b[39mget_distribution(\u001b[38;5;124m'\u001b[39m\u001b[38;5;124mfastcore\u001b[39m\u001b[38;5;124m'\u001b[39m)\u001b[38;5;241m.\u001b[39mversion\n\u001b[1;32m     12\u001b[0m \u001b[38;5;28mprint\u001b[39m(v3,v1)\n\u001b[0;32m---> 13\u001b[0m \u001b[38;5;28;01massert\u001b[39;00m pkg_resources\u001b[38;5;241m.\u001b[39mparse_version(v3) \u001b[38;5;241m==\u001b[39m pkg_resources\u001b[38;5;241m.\u001b[39mparse_version(v1)\n",
      "\u001b[0;31mAssertionError\u001b[0m: "
     ]
    }
   ],
   "source": [
    "# Test downgrade one patch level\n",
    "v1  = pkg_resources.get_distribution('fastcore').version\n",
    "setup_install(install=f'\"fastcore<{v1}\"\"')\n",
    "importlib.reload(pkg_resources)\n",
    "v2 = pkg_resources.get_distribution('fastcore').version\n",
    "assert pkg_resources.parse_version(v2) < pkg_resources.parse_version(v1)\n",
    "\n",
    "# Test restore original version\n",
    "setup_install(install=f'\"fastcore=={v1}\"\"')\n",
    "importlib.reload(pkg_resources)\n",
    "v3 = pkg_resources.get_distribution('fastcore').version\n",
    "print(v3,v1)\n",
    "assert pkg_resources.parse_version(v3) == pkg_resources.parse_version(v1)"
   ]
  },
  {
   "cell_type": "code",
   "execution_count": null,
   "metadata": {},
   "outputs": [],
   "source": [
    "#|export\n",
    "def setup_comp(competition, install=''):\n",
    "    \"Get a path to data for `competition`, downloading it if needed\"\n",
    "    setup_install(install)\n",
    " \n",
    "    if iskaggle:\n",
    "        return Path('../input')/competition\n",
    "    else:\n",
    "        path = Path(competition)\n",
    "        from kaggle import api\n",
    "        if not path.exists():\n",
    "            import zipfile\n",
    "            api.competition_download_cli(str(competition))\n",
    "            zipfile.ZipFile(f'{competition}.zip').extractall(str(competition))\n",
    "        return path"
   ]
  },
  {
   "cell_type": "code",
   "execution_count": null,
   "metadata": {},
   "outputs": [
    {
     "data": {
      "text/plain": [
       "Path('titanic')"
      ]
     },
     "execution_count": null,
     "metadata": {},
     "output_type": "execute_result"
    }
   ],
   "source": [
    "setup_comp('titanic')"
   ]
  },
  {
   "cell_type": "markdown",
   "metadata": {},
   "source": [
    "If you pass a list of space separated modules to `install`, they'll be installed if running on Kaggle."
   ]
  },
  {
   "cell_type": "code",
   "execution_count": null,
   "metadata": {},
   "outputs": [],
   "source": [
    "#|export\n",
    "def nb_meta(user, id, title, file, competition=None, private=True, gpu=False, internet=True):\n",
    "    \"Get the `dict` required for a kernel-metadata.json file\"\n",
    "    d = {\n",
    "      \"id\": f\"{user}/{id}\",\n",
    "      \"title\": title,\n",
    "      \"code_file\": file,\n",
    "      \"language\": \"python\",\n",
    "      \"kernel_type\": \"notebook\",\n",
    "      \"is_private\": private,\n",
    "      \"enable_gpu\": gpu,\n",
    "      \"enable_internet\": internet,\n",
    "      \"keywords\": [],\n",
    "      \"dataset_sources\": [],\n",
    "      \"kernel_sources\": []\n",
    "    }\n",
    "    if competition: d[\"competition_sources\"] = [f\"competitions/{competition}\"]\n",
    "    return d"
   ]
  },
  {
   "cell_type": "code",
   "execution_count": null,
   "metadata": {},
   "outputs": [
    {
     "data": {
      "text/plain": [
       "{'id': 'jhoward/my-notebook',\n",
       " 'title': 'My notebook',\n",
       " 'code_file': 'my-notebook.ipynb',\n",
       " 'language': 'python',\n",
       " 'kernel_type': 'notebook',\n",
       " 'is_private': True,\n",
       " 'enable_gpu': False,\n",
       " 'enable_internet': True,\n",
       " 'keywords': [],\n",
       " 'dataset_sources': [],\n",
       " 'kernel_sources': [],\n",
       " 'competition_sources': ['competitions/paddy-disease-classification']}"
      ]
     },
     "execution_count": null,
     "metadata": {},
     "output_type": "execute_result"
    }
   ],
   "source": [
    "nb_meta('jhoward', 'my-notebook', 'My notebook', 'my-notebook.ipynb', competition='paddy-disease-classification')"
   ]
  },
  {
   "cell_type": "code",
   "execution_count": null,
   "metadata": {},
   "outputs": [],
   "source": [
    "#|export\n",
    "def push_notebook(user, id, title, file, path='.', competition=None, private=True, gpu=False, internet=True):\n",
    "    \"Push notebook `file` to Kaggle Notebooks\"\n",
    "    meta = nb_meta(user, id, title, file=file, competition=competition, private=private, gpu=gpu, internet=internet)\n",
    "    path = Path(path)\n",
    "    nm = 'kernel-metadata.json'\n",
    "    path.mkdir(exist_ok=True, parents=True)\n",
    "    with open(path/nm, 'w') as f: json.dump(meta, f, indent=2)\n",
    "    from kaggle import api\n",
    "    api.kernels_push_cli(str(path))"
   ]
  },
  {
   "cell_type": "markdown",
   "metadata": {},
   "source": [
    "Note that Kaggle recommends that the `id` match the *slug* for the title -- i.e it should be the same as the title, but lowercase, no punctuation, and spaces replaced with dashes. E.g:\n",
    "\n",
    "```python\n",
    "push_notebook('jhoward', 'first-steps-road-to-the-top-part-1',\n",
    "              title='First Steps: Road to the Top, Part 1',\n",
    "              file='first-steps-road-to-the-top-part-1.ipynb',\n",
    "              competition='paddy-disease-classification',\n",
    "              private=False, gpu=True)\n",
    "```"
   ]
  },
  {
   "cell_type": "markdown",
   "metadata": {},
   "source": [
    "## Export -"
   ]
  },
  {
   "cell_type": "code",
   "execution_count": null,
   "metadata": {},
   "outputs": [],
   "source": [
    "#|hide\n",
    "#|eval: false\n",
    "from nbprocess.doclinks import nbprocess_export\n",
    "nbprocess_export()"
   ]
  },
  {
   "cell_type": "code",
   "execution_count": null,
   "metadata": {},
   "outputs": [],
   "source": []
  }
 ],
 "metadata": {
  "kernelspec": {
   "display_name": "Python 3 (ipykernel)",
   "language": "python",
   "name": "python3"
  }
 },
 "nbformat": 4,
 "nbformat_minor": 4
}
